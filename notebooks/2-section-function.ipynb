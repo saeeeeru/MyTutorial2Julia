{
 "cells": [
  {
   "cell_type": "markdown",
   "metadata": {},
   "source": [
    "table of contents\n",
    "1. 関数\n",
    "\n",
    "Juliaの特徴\n",
    "* コンパイル言語に比肩する実行速度\n",
    "* シンプルな言語機能と豊富な標準ライブラリ\n",
    "* 引数の型により実行される関数が決まる動的ディスパッチ\n",
    "* Lispのような強力なマクロ機能"
   ]
  },
  {
   "cell_type": "markdown",
   "metadata": {},
   "source": [
    "# 関数"
   ]
  },
  {
   "cell_type": "markdown",
   "metadata": {},
   "source": [
    "まずはJuliaのコードをざっと見てみましょう。配列をソートするクイックソートのコードです。"
   ]
  },
  {
   "cell_type": "code",
   "execution_count": 1,
   "metadata": {},
   "outputs": [
    {
     "data": {
      "text/plain": [
       "partition (generic function with 1 method)"
      ]
     },
     "execution_count": 1,
     "metadata": {},
     "output_type": "execute_result"
    }
   ],
   "source": [
    "quicksort(xs) = quicksort!(copy(xs))\n",
    "quicksort!(xs) = quicksort!(xs, 1, length(xs))\n",
    "\n",
    "function quicksort!(xs, lo, hi)\n",
    "    if lo < hi\n",
    "        p = partition(xs, lo, hi)\n",
    "        quicksort!(xs, lo, p - 1)\n",
    "        quicksort!(xs, p + 1, hi)\n",
    "    end\n",
    "    return xs\n",
    "end\n",
    "\n",
    "function partition(xs, lo, hi)\n",
    "    pivot = div(lo + hi, 2)\n",
    "    pvalue = xs[pivot]\n",
    "    xs[pivot], xs[hi] = xs[hi], xs[pivot]\n",
    "    j = lo\n",
    "    @inbounds for i in lo:hi-1\n",
    "        if xs[i] <= pvalue\n",
    "            xs[i], xs[j] = xs[j], xs[i]\n",
    "            j += 1\n",
    "        end\n",
    "    end\n",
    "    xs[j], xs[hi] = xs[hi], xs[j]\n",
    "    return j\n",
    "end"
   ]
  },
  {
   "cell_type": "markdown",
   "metadata": {},
   "source": [
    "どうでしょう。PythonやRubyをやったことがる人なら初見でも大体の意味が分かるのではないでしょうか。\n",
    "まるで擬似コードのような、スッキリした文法です。\n",
    "\n",
    "関数定義・分岐・反復などの構文はそれぞれ`function ... end`, `if ... end`, `for ... end`, `while ... end`のようにキーワードで始まり`end`で終わります。 ちょうどRubyと同じような感じです。 インデントはPythonのように必要ではありませんが、4スペースでひとつのインデントを表すのが慣習です。\n",
    "\n",
    "また、6行目の`p = partition(xs, lo, hi)`で分かるように変数の宣言や型の指定は通常必要ありません。\n",
    "\n",
    "18行目の`@inbounds`というのが気になるかもしれません。\n",
    "`@`マークで始まるこの表記は**マクロ呼出し**と言われ、コードを書き換えたりJuliaのコンパイラに最適化のヒントを与えることができます。\n",
    "ここで使われている`@inbounds`は添字アクセス(`xs[i]`など)のチェックを省き、少し計算を高速化できますが、配列の範囲外にアクセスした時はセグメンテーション違反などを起こし停止する可能性があります。\n",
    "\n",
    "こうしたJuliaで書かれたコードはJuliaのLLVMベースのJITコンパイラによりコンパイルされ、C言語などで書いたコードとそれほど変わらない速度で実行できます。\n",
    "\n",
    "試しに整数の小さい配列をソートしてみると、うまく行っています。"
   ]
  },
  {
   "cell_type": "code",
   "execution_count": 2,
   "metadata": {},
   "outputs": [
    {
     "data": {
      "text/plain": [
       "6-element Vector{Int64}:\n",
       " 1\n",
       " 2\n",
       " 3\n",
       " 4\n",
       " 5\n",
       " 6"
      ]
     },
     "execution_count": 2,
     "metadata": {},
     "output_type": "execute_result"
    }
   ],
   "source": [
    "quicksort([3, 6, 2, 4, 5, 1])"
   ]
  },
  {
   "cell_type": "markdown",
   "metadata": {},
   "source": [
    "浮動小数点でも動きます。"
   ]
  },
  {
   "cell_type": "code",
   "execution_count": 3,
   "metadata": {},
   "outputs": [
    {
     "data": {
      "text/plain": [
       "6-element Vector{Float64}:\n",
       " -2.1\n",
       " -1.2\n",
       "  0.1\n",
       "  3.1\n",
       "  3.4\n",
       "  5.0"
      ]
     },
     "execution_count": 3,
     "metadata": {},
     "output_type": "execute_result"
    }
   ],
   "source": [
    "quicksort([-2.1, 3.4, 5.0, -1.2, 3.1, 0.1])"
   ]
  },
  {
   "cell_type": "markdown",
   "metadata": {},
   "source": [
    "1千万要素もあるような浮動小数点数の配列のソートも一瞬です。"
   ]
  },
  {
   "cell_type": "code",
   "execution_count": 4,
   "metadata": {},
   "outputs": [
    {
     "name": "stdout",
     "output_type": "stream",
     "text": [
      "  1.177913 seconds (2 allocations: 76.294 MiB, 0.70% gc time)\n"
     ]
    },
    {
     "data": {
      "text/plain": [
       "10000000-element Vector{Float64}:\n",
       " -5.195847643339796\n",
       " -4.965462660891118\n",
       " -4.9061968556410385\n",
       " -4.853960867689443\n",
       " -4.780966591018771\n",
       " -4.75993935971095\n",
       " -4.75766633895526\n",
       " -4.715715468600939\n",
       " -4.708323665744881\n",
       " -4.704676339449706\n",
       " -4.677681840439496\n",
       " -4.65721080889134\n",
       " -4.653060310117849\n",
       "  ⋮\n",
       "  4.633787920161552\n",
       "  4.651267150552577\n",
       "  4.6583917283576\n",
       "  4.733092376976452\n",
       "  4.747430603222531\n",
       "  4.78254242404567\n",
       "  4.833569207548429\n",
       "  4.844964859905789\n",
       "  4.893076903998649\n",
       "  4.960872359435442\n",
       "  5.063606724060488\n",
       "  5.110565738696973"
      ]
     },
     "execution_count": 4,
     "metadata": {},
     "output_type": "execute_result"
    }
   ],
   "source": [
    "using Random: seed!\n",
    "seed!(0xdeadbeef)\n",
    "xs = randn(10_000_000)\n",
    "@time quicksort(xs)"
   ]
  },
  {
   "cell_type": "markdown",
   "metadata": {},
   "source": [
    "ここでひとつ注目すべきことは、`quicksort`関数の定義時に引数の型を指定していなかったにも関わらず、整数にも浮動小数点数にも適用できるということです。\n",
    "実は、関数の最初の実行時にそれぞれの型に応じて高速なコードを生成しています。\n",
    "この機能のおかげで、**Juliaでは関数の型を一切指定しなくても十分なパフォーマンスが得られます**。\n",
    "\n",
    "`quicksort`は、数値にかぎらず以下の様な文字や文字列でも適用できます。"
   ]
  },
  {
   "cell_type": "code",
   "execution_count": 5,
   "metadata": {},
   "outputs": [
    {
     "data": {
      "text/plain": [
       "5-element Vector{Char}:\n",
       " 'A': ASCII/Unicode U+0041 (category Lu: Letter, uppercase)\n",
       " 'B': ASCII/Unicode U+0042 (category Lu: Letter, uppercase)\n",
       " 'C': ASCII/Unicode U+0043 (category Lu: Letter, uppercase)\n",
       " 'D': ASCII/Unicode U+0044 (category Lu: Letter, uppercase)\n",
       " 'E': ASCII/Unicode U+0045 (category Lu: Letter, uppercase)"
      ]
     },
     "execution_count": 5,
     "metadata": {},
     "output_type": "execute_result"
    }
   ],
   "source": [
    "quicksort(['B', 'A', 'D', 'E', 'C'])"
   ]
  },
  {
   "cell_type": "code",
   "execution_count": 6,
   "metadata": {},
   "outputs": [
    {
     "data": {
      "text/plain": [
       "5-element Vector{String}:\n",
       " \"Alice\"\n",
       " \"Bob\"\n",
       " \"Charlie\"\n",
       " \"Dave\"\n",
       " \"Eve\""
      ]
     },
     "execution_count": 6,
     "metadata": {},
     "output_type": "execute_result"
    }
   ],
   "source": [
    "quicksort([\"Bob\", \"Alice\", \"Dave\", \"Eve\", \"Charlie\"])"
   ]
  },
  {
   "cell_type": "markdown",
   "metadata": {},
   "source": [
    "## 関数とメソッド"
   ]
  },
  {
   "cell_type": "markdown",
   "metadata": {},
   "source": [
    "### 関数の定義"
   ]
  },
  {
   "cell_type": "markdown",
   "metadata": {},
   "source": [
    "既に何度か出てきますが、関数の定義は\n",
    "\n",
    "```julia\n",
    "function <関数名>(<引数>, ...)\n",
    "    <関数本体>\n",
    "end\n",
    "```\n",
    "\n",
    "を使います。\n",
    "返り値は`return`を使いますが、最後に評価された式が自動的に返り値になるので省略可能です。"
   ]
  },
  {
   "cell_type": "code",
   "execution_count": 7,
   "metadata": {},
   "outputs": [
    {
     "data": {
      "text/plain": [
       "dist (generic function with 1 method)"
      ]
     },
     "execution_count": 7,
     "metadata": {},
     "output_type": "execute_result"
    }
   ],
   "source": [
    "# 2次元空間でのpとq間のユークリッド距離\n",
    "function dist(p, q)\n",
    "    dx = p[1] - q[1]\n",
    "    dy = p[2] - q[2]\n",
    "    sqrt((dx)^2 + (dy)^2)\n",
    "end"
   ]
  },
  {
   "cell_type": "code",
   "execution_count": 8,
   "metadata": {},
   "outputs": [
    {
     "data": {
      "text/plain": [
       "5.0"
      ]
     },
     "execution_count": 8,
     "metadata": {},
     "output_type": "execute_result"
    }
   ],
   "source": [
    "dist((0, 0), (3, 4))"
   ]
  },
  {
   "cell_type": "markdown",
   "metadata": {},
   "source": [
    "もう一つ、別の方法として以下の「代入」のような形も使えます。一行で済むような\n",
    "簡単な関数を定義するときに便利です。"
   ]
  },
  {
   "cell_type": "code",
   "execution_count": 9,
   "metadata": {},
   "outputs": [
    {
     "data": {
      "text/plain": [
       "dist (generic function with 1 method)"
      ]
     },
     "execution_count": 9,
     "metadata": {},
     "output_type": "execute_result"
    }
   ],
   "source": [
    "dist(p, q) = sqrt((p[1] - q[1])^2 + (p[2] - q[2])^2)"
   ]
  },
  {
   "cell_type": "code",
   "execution_count": 10,
   "metadata": {},
   "outputs": [
    {
     "data": {
      "text/plain": [
       "5.0"
      ]
     },
     "execution_count": 10,
     "metadata": {},
     "output_type": "execute_result"
    }
   ],
   "source": [
    "dist((0, 0), (3, 4))"
   ]
  },
  {
   "cell_type": "markdown",
   "metadata": {},
   "source": [
    "オプション引数やキーワード引数、可変長引数もJuliaでは使えます。"
   ]
  },
  {
   "cell_type": "code",
   "execution_count": 11,
   "metadata": {},
   "outputs": [
    {
     "data": {
      "text/plain": [
       "ktop (generic function with 2 methods)"
      ]
     },
     "execution_count": 11,
     "metadata": {},
     "output_type": "execute_result"
    }
   ],
   "source": [
    "# オプション引数: '='\n",
    "ktop(xs, k=3) = sort(xs)[1:k]"
   ]
  },
  {
   "cell_type": "code",
   "execution_count": 12,
   "metadata": {},
   "outputs": [
    {
     "data": {
      "text/plain": [
       "3-element Vector{Int64}:\n",
       " 1\n",
       " 2\n",
       " 3"
      ]
     },
     "execution_count": 12,
     "metadata": {},
     "output_type": "execute_result"
    }
   ],
   "source": [
    "ktop([1,5,3,2,6])"
   ]
  },
  {
   "cell_type": "code",
   "execution_count": 13,
   "metadata": {},
   "outputs": [
    {
     "data": {
      "text/plain": [
       "2-element Vector{Int64}:\n",
       " 1\n",
       " 2"
      ]
     },
     "execution_count": 13,
     "metadata": {},
     "output_type": "execute_result"
    }
   ],
   "source": [
    "ktop([1,5,3,2,6], 2)"
   ]
  },
  {
   "cell_type": "code",
   "execution_count": 14,
   "metadata": {},
   "outputs": [
    {
     "data": {
      "text/plain": [
       "ktop (generic function with 2 methods)"
      ]
     },
     "execution_count": 14,
     "metadata": {},
     "output_type": "execute_result"
    }
   ],
   "source": [
    "# キーワード引数: ';' '='\n",
    "function ktop(xs; k=3, rev=false)\n",
    "    sort(xs, rev=rev)[1:k]\n",
    "end"
   ]
  },
  {
   "cell_type": "code",
   "execution_count": 15,
   "metadata": {},
   "outputs": [
    {
     "data": {
      "text/plain": [
       "2-element Vector{Int64}:\n",
       " 1\n",
       " 2"
      ]
     },
     "execution_count": 15,
     "metadata": {},
     "output_type": "execute_result"
    }
   ],
   "source": [
    "ktop([1,5,3,2,6], k=2)"
   ]
  },
  {
   "cell_type": "code",
   "execution_count": 16,
   "metadata": {},
   "outputs": [
    {
     "data": {
      "text/plain": [
       "4-element Vector{Int64}:\n",
       " 6\n",
       " 5\n",
       " 3\n",
       " 2"
      ]
     },
     "execution_count": 16,
     "metadata": {},
     "output_type": "execute_result"
    }
   ],
   "source": [
    "ktop([1,5,3,2,6], k=4, rev=true)"
   ]
  },
  {
   "cell_type": "code",
   "execution_count": 17,
   "metadata": {},
   "outputs": [
    {
     "data": {
      "text/plain": [
       "pathlength (generic function with 1 method)"
      ]
     },
     "execution_count": 17,
     "metadata": {},
     "output_type": "execute_result"
    }
   ],
   "source": [
    "function pathlength(p, q, rs...)\n",
    "    len = dist(p, q)\n",
    "    for r in rs\n",
    "        len += dist(q, r)\n",
    "        q = r\n",
    "    end\n",
    "    return len\n",
    "end"
   ]
  },
  {
   "cell_type": "code",
   "execution_count": 18,
   "metadata": {},
   "outputs": [
    {
     "data": {
      "text/plain": [
       "1.4142135623730951"
      ]
     },
     "execution_count": 18,
     "metadata": {},
     "output_type": "execute_result"
    }
   ],
   "source": [
    "pathlength((0, 0), (1, 1))"
   ]
  },
  {
   "cell_type": "code",
   "execution_count": 19,
   "metadata": {},
   "outputs": [
    {
     "data": {
      "text/plain": [
       "2.414213562373095"
      ]
     },
     "execution_count": 19,
     "metadata": {},
     "output_type": "execute_result"
    }
   ],
   "source": [
    "pathlength((0, 0), (1, 1), (1, 2))"
   ]
  },
  {
   "cell_type": "code",
   "execution_count": 20,
   "metadata": {},
   "outputs": [
    {
     "data": {
      "text/plain": [
       "4.650281539872885"
      ]
     },
     "execution_count": 20,
     "metadata": {},
     "output_type": "execute_result"
    }
   ],
   "source": [
    "pathlength((0, 0), (1, 1), (1, 2), (0, 0))"
   ]
  },
  {
   "cell_type": "markdown",
   "metadata": {},
   "source": [
    "それぞれに特徴的な記号をまとめておきます。\n",
    "\n",
    "<table>\n",
    "    <tr><th>オプション引数</th><td>`=`</td><td>`xs, k=3`</td></tr>\n",
    "    <tr><th>キーワード引数</th><td>`;` `=`</td><td>`xs; k=3`</td></tr>\n",
    "    <tr><th>可変長引数</th><td>`...`</td><td>`x, xs...`</td></tr>\n",
    "</table>"
   ]
  },
  {
   "cell_type": "markdown",
   "metadata": {},
   "source": [
    "ここで、Juliaでの関数名の慣習を確認しておきます。\n",
    "ドキュメントや標準ライブラリの関数から推奨される関数の命名法は以下の様なものになります\n",
    "(括弧内は標準ライブラリにある関数の具体例です)。\n",
    "\n",
    "* すべて小文字 (`get`, `readline`)\n",
    "* アンダースコア(`_`)は、なるべく使わない (`readdlm`, `findmin`)\n",
    "* 行う操作を表す英語の動詞を使う (`open`, `serialize`)\n",
    "* `Bool`を返す関数は`is...`や`has...`という名前を使う (`isempty`, `haskey`)\n",
    "* 引数のデータを変えてしまう関数は最後に`!`をつける (`push!`, `sort!`)\n",
    "\n",
    "一番最初の例を振り返ってみると、この形の関数定義を使っていました。\n",
    "\n",
    "```julia\n",
    "quicksort(xs) = quicksort!(copy(xs))\n",
    "quicksort!(xs) = quicksort!(xs, 1, length(xs))\n",
    "```\n",
    "\n",
    "`quicksort!`のように、関数名の最後に`!`をつけるのは引数を変更するときの慣習的な方法です。\n",
    "関数の引数は基本的に参照渡しのようになるため、`Array`などmutableな型の値は関数内で変更できます。"
   ]
  },
  {
   "cell_type": "markdown",
   "metadata": {},
   "source": [
    "### 多重ディスパッチ"
   ]
  },
  {
   "cell_type": "markdown",
   "metadata": {},
   "source": [
    "実はJuliaでは、関数がとる引数の型を`<引数>::<型>`のように指定することもできます。これは他のスクリプト言語にはあまりみられない特徴です。"
   ]
  },
  {
   "cell_type": "code",
   "execution_count": 21,
   "metadata": {},
   "outputs": [
    {
     "data": {
      "text/plain": [
       "add (generic function with 1 method)"
      ]
     },
     "execution_count": 21,
     "metadata": {},
     "output_type": "execute_result"
    }
   ],
   "source": [
    "function add(x::Int, y::Int)\n",
    "    return x + y\n",
    "end"
   ]
  },
  {
   "cell_type": "markdown",
   "metadata": {},
   "source": [
    "型が合えば関数を呼び出すことができます。"
   ]
  },
  {
   "cell_type": "code",
   "execution_count": 22,
   "metadata": {},
   "outputs": [
    {
     "data": {
      "text/plain": [
       "3"
      ]
     },
     "execution_count": 22,
     "metadata": {},
     "output_type": "execute_result"
    }
   ],
   "source": [
    "add(1, 2)"
   ]
  },
  {
   "cell_type": "markdown",
   "metadata": {},
   "source": [
    "しかし型が合わないと、呼び出すこともできません。"
   ]
  },
  {
   "cell_type": "code",
   "execution_count": 23,
   "metadata": {},
   "outputs": [
    {
     "ename": "LoadError",
     "evalue": "MethodError: no method matching add(::Float64, ::Float64)",
     "output_type": "error",
     "traceback": [
      "MethodError: no method matching add(::Float64, ::Float64)",
      "",
      "Stacktrace:",
      " [1] top-level scope",
      "   @ In[23]:1",
      " [2] eval",
      "   @ ./boot.jl:360 [inlined]",
      " [3] include_string(mapexpr::typeof(REPL.softscope), mod::Module, code::String, filename::String)",
      "   @ Base ./loading.jl:1094"
     ]
    }
   ],
   "source": [
    "add(1.0, 2.0)"
   ]
  },
  {
   "cell_type": "markdown",
   "metadata": {},
   "source": [
    "ここで、次の関数を定義してみましょう"
   ]
  },
  {
   "cell_type": "code",
   "execution_count": 24,
   "metadata": {},
   "outputs": [
    {
     "data": {
      "text/plain": [
       "add (generic function with 2 methods)"
      ]
     },
     "execution_count": 24,
     "metadata": {},
     "output_type": "execute_result"
    }
   ],
   "source": [
    "function add(x::Float64, y::Float64)\n",
    "    return x + y\n",
    "end"
   ]
  },
  {
   "cell_type": "markdown",
   "metadata": {},
   "source": [
    "すると、先ほど呼び出せなかった方の組み合わせで呼び出せるようになります"
   ]
  },
  {
   "cell_type": "code",
   "execution_count": 25,
   "metadata": {},
   "outputs": [
    {
     "data": {
      "text/plain": [
       "3.0"
      ]
     },
     "execution_count": 25,
     "metadata": {},
     "output_type": "execute_result"
    }
   ],
   "source": [
    "add(1.0, 2.0)"
   ]
  },
  {
   "cell_type": "markdown",
   "metadata": {},
   "source": [
    "しかも、これは元の関数の上書きではありません。元の`Int`, `Int`の組み合わせでも呼び出せます。"
   ]
  },
  {
   "cell_type": "code",
   "execution_count": 26,
   "metadata": {},
   "outputs": [
    {
     "data": {
      "text/plain": [
       "3"
      ]
     },
     "execution_count": 26,
     "metadata": {},
     "output_type": "execute_result"
    }
   ],
   "source": [
    "add(1, 2)"
   ]
  },
  {
   "cell_type": "markdown",
   "metadata": {},
   "source": [
    "このように、引数の型に合わせて呼び出すメソッドを変える仕組みを**多重ディスパッチ**と呼びます。\n",
    "以下の例で、これがどのように動くのかを確認して下さい。"
   ]
  },
  {
   "cell_type": "code",
   "execution_count": 27,
   "metadata": {},
   "outputs": [
    {
     "data": {
      "text/plain": [
       "foo (generic function with 4 methods)"
      ]
     },
     "execution_count": 27,
     "metadata": {},
     "output_type": "execute_result"
    }
   ],
   "source": [
    "function foo(x::Int)\n",
    "    println(\"foo Int: $x\")\n",
    "end\n",
    "\n",
    "function foo(x::Int, y::Int)\n",
    "    println(\"foo Int Int: $x $y\")\n",
    "end\n",
    "\n",
    "function foo(x::Float64, y::Float64)\n",
    "    println(\"foo Float64 Float64: $x $y\")\n",
    "end\n",
    "\n",
    "function foo(x::Int, y::Float64)\n",
    "    println(\"foo Int Float64: $x $y\")\n",
    "end "
   ]
  },
  {
   "cell_type": "code",
   "execution_count": 28,
   "metadata": {},
   "outputs": [
    {
     "name": "stdout",
     "output_type": "stream",
     "text": [
      "foo Int: 1\n"
     ]
    }
   ],
   "source": [
    "foo(1)"
   ]
  },
  {
   "cell_type": "code",
   "execution_count": 29,
   "metadata": {},
   "outputs": [
    {
     "name": "stdout",
     "output_type": "stream",
     "text": [
      "foo Int Int: 1 2\n"
     ]
    }
   ],
   "source": [
    "foo(1, 2)"
   ]
  },
  {
   "cell_type": "code",
   "execution_count": 30,
   "metadata": {},
   "outputs": [
    {
     "name": "stdout",
     "output_type": "stream",
     "text": [
      "foo Float64 Float64: 1.0 3.14\n"
     ]
    }
   ],
   "source": [
    "foo(1.0, 3.14)"
   ]
  },
  {
   "cell_type": "code",
   "execution_count": 31,
   "metadata": {},
   "outputs": [
    {
     "name": "stdout",
     "output_type": "stream",
     "text": [
      "foo Int Float64: 1 3.14\n"
     ]
    }
   ],
   "source": [
    "foo(1, 3.14)"
   ]
  },
  {
   "cell_type": "markdown",
   "metadata": {},
   "source": [
    "型の指定は`Int64`や`Float64`のような具体型に限りません。\n",
    "より高位の抽象型を使うこともできます。"
   ]
  },
  {
   "cell_type": "code",
   "execution_count": 32,
   "metadata": {},
   "outputs": [
    {
     "ename": "LoadError",
     "evalue": "MethodError: no method matching add(::BigInt, ::BigFloat)",
     "output_type": "error",
     "traceback": [
      "MethodError: no method matching add(::BigInt, ::BigFloat)",
      "",
      "Stacktrace:",
      " [1] top-level scope",
      "   @ In[32]:1",
      " [2] eval",
      "   @ ./boot.jl:360 [inlined]",
      " [3] include_string(mapexpr::typeof(REPL.softscope), mod::Module, code::String, filename::String)",
      "   @ Base ./loading.jl:1094"
     ]
    }
   ],
   "source": [
    "add(BigInt(1), BigFloat(1))  # これにマッチするメソッドはまだない"
   ]
  },
  {
   "cell_type": "markdown",
   "metadata": {},
   "source": [
    "`x isa Number`かつ`y isa Number`になれば、以下のメソッドを呼び出せますので、具体型を使っていたときに比べ適用範囲がぐっと広がります。"
   ]
  },
  {
   "cell_type": "code",
   "execution_count": 33,
   "metadata": {},
   "outputs": [
    {
     "data": {
      "text/plain": [
       "add (generic function with 3 methods)"
      ]
     },
     "execution_count": 33,
     "metadata": {},
     "output_type": "execute_result"
    }
   ],
   "source": [
    "function add(x::Number, y::Number)\n",
    "    return x + y\n",
    "end"
   ]
  },
  {
   "cell_type": "code",
   "execution_count": 34,
   "metadata": {},
   "outputs": [
    {
     "data": {
      "text/plain": [
       "2.0"
      ]
     },
     "execution_count": 34,
     "metadata": {},
     "output_type": "execute_result"
    }
   ],
   "source": [
    "add(BigInt(1), BigFloat(1))  # 今度は呼び出せる"
   ]
  },
  {
   "cell_type": "code",
   "execution_count": 35,
   "metadata": {},
   "outputs": [
    {
     "data": {
      "text/plain": [
       "(4.141592653589793, 4.141592653589793, 1)"
      ]
     },
     "execution_count": 35,
     "metadata": {},
     "output_type": "execute_result"
    }
   ],
   "source": [
    "add(1, π), add(π, 1.0), add(true, false)  # 様々な型の組み合わせが使える  "
   ]
  },
  {
   "cell_type": "markdown",
   "metadata": {},
   "source": [
    "### コンストラクタ"
   ]
  },
  {
   "cell_type": "markdown",
   "metadata": {},
   "source": [
    "Juliaのコンストラクタは通常の関数と同様に定義でき、多重ディスパッチも利用できます。\n",
    "コンストラクタは以下の2種類に分けられます。\n",
    "\n",
    "* 内部コンストラクタ (inner constructor)\n",
    "* 外部コンストラクタ (outer constructor)\n",
    "\n",
    "外部コンストラクタは、他の外部コンストラクタや内部コンストラクタを呼び出すことでオブジェクトを作ることができます。\n",
    "最終的に、全てのオブジェクトは内部コンストラクタを経由して作られるため、**内部コンストラクタで最終的な値のチェック**などを実現できます。\n",
    "\n",
    "それでは、具体例を見てみましょう。"
   ]
  },
  {
   "cell_type": "markdown",
   "metadata": {},
   "source": [
    "以下の`RGB`型はRed-Green-Blueの3原色を指定して色を表現する型です。\n",
    "それぞれの色は8bitの符号なし整数でエンコーディングしています。\n",
    "しかし、色を作る際は8bitで表現できない値が与えられる可能性があるため、不正な値が与えられれば例外を投げるようにしたいです。\n",
    "これを実現するため、内部コンストラクタで与えられた値のチェックをしています。\n",
    "内部コンストラクタは、構文的には`(mutable) struct ... end`の内部で定義された関数です。\n",
    "内部コンストラクタの特別な点は、`new`関数を呼び出すことで、その型のオブジェクトを作ることができるところにあります。"
   ]
  },
  {
   "cell_type": "code",
   "execution_count": 36,
   "metadata": {},
   "outputs": [],
   "source": [
    "struct RGB\n",
    "    r::UInt8\n",
    "    g::UInt8\n",
    "    b::UInt8\n",
    "\n",
    "    function RGB(r, g, b)\n",
    "        @assert 0 <= r <= 255\n",
    "        @assert 0 <= g <= 255\n",
    "        @assert 0 <= b <= 255\n",
    "        return new(r, g, b)\n",
    "    end\n",
    "end"
   ]
  },
  {
   "cell_type": "code",
   "execution_count": 37,
   "metadata": {},
   "outputs": [
    {
     "data": {
      "text/plain": [
       "RGB(0x01, 0x02, 0x03)"
      ]
     },
     "execution_count": 37,
     "metadata": {},
     "output_type": "execute_result"
    }
   ],
   "source": [
    "RGB(1, 2, 3)"
   ]
  },
  {
   "cell_type": "markdown",
   "metadata": {},
   "source": [
    "300など8bitで表現できない色が与えられたら、`@assert`マクロが例外を投げます。"
   ]
  },
  {
   "cell_type": "code",
   "execution_count": 38,
   "metadata": {},
   "outputs": [
    {
     "ename": "LoadError",
     "evalue": "AssertionError: 0 <= g <= 255",
     "output_type": "error",
     "traceback": [
      "AssertionError: 0 <= g <= 255",
      "",
      "Stacktrace:",
      " [1] RGB(r::Int64, g::Int64, b::Int64)",
      "   @ Main ./In[36]:8",
      " [2] top-level scope",
      "   @ In[38]:1",
      " [3] eval",
      "   @ ./boot.jl:360 [inlined]",
      " [4] include_string(mapexpr::typeof(REPL.softscope), mod::Module, code::String, filename::String)",
      "   @ Base ./loading.jl:1094"
     ]
    }
   ],
   "source": [
    "RGB(2, 300, 2)"
   ]
  },
  {
   "cell_type": "markdown",
   "metadata": {},
   "source": [
    "デフォルトコンストラクタは`new`関数を呼び出すだけの内部コンストラクタで、プログラマが明示的に内部コンストラクタを定義するとデフォルトコンストラクタは作られません。"
   ]
  },
  {
   "cell_type": "markdown",
   "metadata": {},
   "source": [
    "ある1つの値を与えたら、R,G,Bすべてに同じ値を設定する簡便なコンストラクタが欲しいかもしれません。\n",
    "その場合は以下のように外部コンストラクタを使うと便利です。"
   ]
  },
  {
   "cell_type": "code",
   "execution_count": 39,
   "metadata": {},
   "outputs": [
    {
     "data": {
      "text/plain": [
       "RGB"
      ]
     },
     "execution_count": 39,
     "metadata": {},
     "output_type": "execute_result"
    }
   ],
   "source": [
    "RGB(x) = RGB(x, x, x)"
   ]
  },
  {
   "cell_type": "markdown",
   "metadata": {},
   "source": [
    "外部コンストラクタは構文的には`(mutable) struct ... end`の外部で定義された関数です。ここでは`new`関数は使えず、内部コンストラクタや他の外部コンストラクタを呼び出すことでオブジェクトを作ります。"
   ]
  },
  {
   "cell_type": "markdown",
   "metadata": {},
   "source": [
    "これは、他の外部コンストラクタを呼び出す外部コンストラクタの例です。"
   ]
  },
  {
   "cell_type": "code",
   "execution_count": 40,
   "metadata": {},
   "outputs": [
    {
     "data": {
      "text/plain": [
       "RGB"
      ]
     },
     "execution_count": 40,
     "metadata": {},
     "output_type": "execute_result"
    }
   ],
   "source": [
    "RGB() = RGB(0)"
   ]
  },
  {
   "cell_type": "markdown",
   "metadata": {},
   "source": [
    "多重ディスパッチのお陰で、以下の３つのコンストラクタはすべて使うことができます。"
   ]
  },
  {
   "cell_type": "code",
   "execution_count": 41,
   "metadata": {},
   "outputs": [
    {
     "data": {
      "text/plain": [
       "(RGB(0x00, 0x00, 0x00), RGB(0x0a, 0x0a, 0x0a), RGB(0x0a, 0x14, 0x1e))"
      ]
     },
     "execution_count": 41,
     "metadata": {},
     "output_type": "execute_result"
    }
   ],
   "source": [
    "RGB(), RGB(10), RGB(10, 20, 30)"
   ]
  }
 ],
 "metadata": {
  "anaconda-cloud": {},
  "kernelspec": {
   "display_name": "Julia 1.6.1",
   "language": "julia",
   "name": "julia-1.6"
  },
  "language_info": {
   "file_extension": ".jl",
   "mimetype": "application/julia",
   "name": "julia",
   "version": "1.6.1"
  }
 },
 "nbformat": 4,
 "nbformat_minor": 2
}
